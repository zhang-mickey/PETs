{
 "cells": [
  {
   "cell_type": "markdown",
   "id": "0c3f0337",
   "metadata": {},
   "source": [
    "# <center>Lab session 4: Secure Multi-Party Computing </center> <center>computer section - Task 4 & 5</center>"
   ]
  },
  {
   "cell_type": "code",
   "execution_count": 1,
   "id": "1705869f",
   "metadata": {},
   "outputs": [],
   "source": [
    "import numpy as np\n",
    "import random\n",
    "import string\n",
    "from scipy.interpolate import make_interp_spline\n",
    "import matplotlib.pyplot as plt\n",
    "from decimal import Decimal\n",
    "from Crypto.PublicKey import RSA\n",
    "import sys\n",
    "sys.set_int_max_str_digits(100000000)"
   ]
  },
  {
   "cell_type": "markdown",
   "id": "437d0f20",
   "metadata": {},
   "source": [
    "# TASK 4 - Implementing Shamir's Secret Sharing\n",
    "### Start by defining the problem space (i.e. the context for the secret sharing). $t$ is the threshold value where if someone holds $\\leq t$ shares, the secret cannot be reconstructed, and $>t$ shares can reveal the secret.\n",
    "### TO DO #1: Define variables\n",
    "#### First, first define a large positive prime $q$. Your max value will be $q-1$. $q$ it must be quite big to allow for a wide range of numbers to be created."
   ]
  },
  {
   "cell_type": "code",
   "execution_count": null,
   "id": "4173ee71",
   "metadata": {},
   "outputs": [],
   "source": [
    "#Define the number of participants\n",
    "n= \n",
    "#Define your threshold value. Make sure that t < n\n",
    "t = \n",
    "#Define your secret (int)\n",
    "s = \n",
    "#Define your maximum value of the coefficients a in the polynomial expression. \n",
    "q = \n",
    "maxA = q-1"
   ]
  },
  {
   "attachments": {
    "sss_equation.png": {
     "image/png": "[encoded data removed]"
    }
   },
   "cell_type": "markdown",
   "id": "b5b6d8a4",
   "metadata": {},
   "source": [
    "### Shamir's secret sharing consists of first creating a polynomial $f(x)$ of degree $t-1$, as shown below.\n",
    "![sss_equation.png](attachment:sss_equation.png)\n",
    "### Remember, $a_0$ is the secret to be concealed. \n",
    "### $t-1$ coefficients are created and multiplied by the same value $x$, with increasing exponents.\n",
    "### TO DO #2: Create your coefficients"
   ]
  },
  {
   "cell_type": "code",
   "execution_count": null,
   "id": "6d4a3d34",
   "metadata": {},
   "outputs": [],
   "source": [
    "def create_all_coefficients_a(threshold, secret, max_value):\n",
    "    '''Create t coefficients, including the secret initial value\n",
    "    Parameters\n",
    "    ------------\n",
    "        threshold: int\n",
    "            The polynomial degree + 1\n",
    "        secret: int\n",
    "            The secret value that we wish to share\n",
    "        max_value: int\n",
    "            The max total value of each coefficient\n",
    "    Return\n",
    "    -----------\n",
    "        coeff : The list of all coefficients of the polynomial curve being constructed.\n",
    "    '''\n",
    "    coefficients = []\n",
    "\n",
    "    return coefficients"
   ]
  },
  {
   "cell_type": "code",
   "execution_count": null,
   "id": "ed81cb9b",
   "metadata": {},
   "outputs": [],
   "source": [
    "coefs = create_all_coefficients_a(t, s, maxA)\n",
    "print(f\"The list of generated coefficients go as follow:\\n{coefs}.\\n\\\n",
    "\\nVerify that the first element is a0, the secret.\")"
   ]
  },
  {
   "cell_type": "markdown",
   "id": "a33313de",
   "metadata": {},
   "source": [
    "### Now you are ready to create a function which can compute a unique random polynomial based on the coefficients."
   ]
  },
  {
   "cell_type": "markdown",
   "id": "f4a17e7b",
   "metadata": {},
   "source": [
    "\n",
    "### TO DO #3: Create a function that computes $f(x)$ using the coefficients. \n",
    "##### Tip: this function will take in an x-value you haven't defined yet."
   ]
  },
  {
   "cell_type": "code",
   "execution_count": null,
   "id": "22ccb46e",
   "metadata": {},
   "outputs": [],
   "source": [
    "def compute_polynomial_for_x(x, coefficients):\n",
    "    '''Creates a tuple with the (x, y) coordinates of a single point on the polynomial curve\n",
    "    Parameters\n",
    "    ------------\n",
    "        x: int\n",
    "            None specific value assigned to x for a point on the curve\n",
    "        coefficients: list\n",
    "            List of t coefficients randomly generated, where the 1st element is the secret to be shared\n",
    "    Return\n",
    "    -----------\n",
    "        f : A single y-axis coordinate which is equal to the total of f(x)\n",
    "    '''\n",
    "\n",
    "    return f"
   ]
  },
  {
   "cell_type": "markdown",
   "id": "aaa33026",
   "metadata": {},
   "source": [
    "### You can try to generate the first share, by choosing a value of $x$. Remember $x$ is an integer (eg. 1, 2, 3, 4...), and the max value of $x$ should be much much larger than $n$, to be able to generate unique $x$ values $n$ times fast.\n",
    "### TO DO #3: set the maximum value of $x$ (if you decide to generated random $x$ values) and generate $x$."
   ]
  },
  {
   "cell_type": "code",
   "execution_count": null,
   "id": "7afa106f",
   "metadata": {},
   "outputs": [],
   "source": [
    "maxX = \n",
    "x = "
   ]
  },
  {
   "cell_type": "markdown",
   "id": "7f2f7eab",
   "metadata": {},
   "source": [
    "### The result of your function a single point of coordinate ($x$, $f(x)$). This could be the first share. \n",
    "### TO DO #5: Generate with a function as many shares (based on distinct randomly generated $x$ values) as there are participants."
   ]
  },
  {
   "cell_type": "code",
   "execution_count": null,
   "id": "258a4aa5",
   "metadata": {},
   "outputs": [],
   "source": [
    "def generate_shares(n, coefficients, max_value_of_x):\n",
    "    '''Creates a list of tuples with the (x, y) coordinates for each point on the polynomial curve\n",
    "    Parameters\n",
    "    ------------\n",
    "        n: int\n",
    "            Number of points/shares to generate, based on the number of participants; \n",
    "            will define the length of the list\n",
    "        coefficients: list\n",
    "            List of all the coefficients a0, a1, ... a(t-1).\n",
    "        max_value_of_x: int\n",
    "            The max value of x.\n",
    "    Return\n",
    "    -----------\n",
    "        shares : \n",
    "            The list of points on the polynomial curves, \n",
    "            which constitute each share created and sent to each\n",
    "        participants (e.g. [(x1, y1), (x2, y2),...])\n",
    "    '''\n",
    "    shares = []\n",
    "    x_list = []\n",
    "    return shares"
   ]
  },
  {
   "cell_type": "code",
   "execution_count": null,
   "id": "9f1a177e",
   "metadata": {},
   "outputs": [],
   "source": [
    "all_shares = generate_shares(n, coefs, maxX)"
   ]
  },
  {
   "cell_type": "markdown",
   "id": "01e1c579",
   "metadata": {},
   "source": [
    "### You can now visualize the shares in one single polynomial."
   ]
  },
  {
   "cell_type": "code",
   "execution_count": null,
   "id": "bb24628f",
   "metadata": {},
   "outputs": [],
   "source": [
    "dataset = sorted(all_shares, key=lambda x: x[0])\n",
    "x_points = [i[0] for i in dataset]\n",
    "y_points = [i[1] for i in dataset]\n",
    "labels = [f\"P{i}\" for i in range(1, n+1)]\n",
    "\n",
    "X_Y_Spline = make_interp_spline(x_points, y_points, k=t-1)\n",
    "X_ = np.linspace(min(x_points)-1, max(x_points)+1, maxX)\n",
    "Y_ = X_Y_Spline(X_)\n",
    "plt.plot(X_, Y_, \"-b\")\n",
    "plt.plot(x_points, y_points, 'or')\n",
    "\n",
    "plt.title(f\"Congratulations! Here is your polynomial curve.\\n You have \\\n",
    "created {n} shares, one per participants.\", fontsize=18, fontweight=\"bold\")\n",
    "plt.xlabel(\"x\", fontsize=20, fontweight=\"bold\")\n",
    "plt.ylabel(\"f(x)\", fontsize=20, fontweight=\"bold\")\n",
    "for i, txt in enumerate(labels):\n",
    "    plt.annotate(txt, (x_points[i], y_points[i]), textcoords=\"offset points\",\\\n",
    "                 xytext=(-1,15), ha='center')\n",
    "plt.show()"
   ]
  },
  {
   "cell_type": "markdown",
   "id": "3e623579",
   "metadata": {},
   "source": [
    "### This polynomial is the only polynomial of a given degree $t-1$ (line) $f(x)$ that goes through all the points. It is based on the coefficients you generated. The coefficients are unknown to others, and supposedly, none of the participants (or at least less than $t$ number of participants) are at risk of colluding maliciously.\n",
    "### The secret is at $x = 0$, the intercept of this line. Because the others don't know the coefficients, and if each person knows less than $t$ shares, all values between 0 and $q-1$ could be a secret. Holding less than $t$ shares thus results in *no* chance of guessing the right polynomial, and thus finding the intercept $x=0$ where $f(0) = $ the secret.\n",
    "\n",
    "# LAGRANGE RECONSTRUCTION\n",
    "### Now... how can we reconstruct the secret with at least $t$ shares? \n",
    "### We will use the Lagrange Interpolation to construct a function $f'(x)$. \n",
    "###  $f'(x)$ is an (imperfect) polynomial that passes through at least $t$ out of $n$ shares. Assume you only have $t$ shares in your possession. There needs to be $t$ values of $x$ and $t$ coefficients in your new function  $f'(x)$ . \n"
   ]
  },
  {
   "cell_type": "markdown",
   "id": "d4138d25",
   "metadata": {},
   "source": [
    "## The task is to build such a polynomial, which goes through $t$ shares.\n",
    "## The ultimate goal is to find $y_0$ (or $f'(0)$) for $x=0$ (the intercept). This, $y_0$, will be the secret!\n",
    "### First, here are the shares you have:"
   ]
  },
  {
   "cell_type": "code",
   "execution_count": null,
   "id": "c03235f1",
   "metadata": {},
   "outputs": [],
   "source": [
    "t_shares = all_shares[:t]"
   ]
  },
  {
   "cell_type": "markdown",
   "id": "c91d93f3",
   "metadata": {},
   "source": [
    "### The interpolation goes as follows:\n",
    "### For each $x_i$ values in your $t$ shares, you have to calculate $\\Pi\\frac{x_{j}}{x_{j} - x_i}$ with $j\\in\\{0,\\ldots,t-1\\}\\setminus\\{i\\}$\n",
    "### At all times, $j \\neq i$.\n",
    "##### That means, each value of $x_i$ you have is subtracted by the value of $x_{j}$, that is, any $x$ value from a share coordinate that is not the share of interest, $x_i$. The next $x$ (called $x_{j}$) is divided by the result of your subtraction. The final result is then multiplied (hence the product sign $\\Pi$) by the result of the next iteration, involving the same $x_i$ and every other $x_{j}$ you have. You do this once for each value of $x_i$.\n",
    "### Then, you have to multiply the final result of this iterative process for all $x_i$ with $y_i$, that is, the corresponding $y$-value for the $x$ you chose. \n",
    "##### (e.g. for share (1, 42), 1 is your $x$ and 42 is the corresponding $y$)\n",
    "### How was this algorithm constructed? Why does this algorithm work? To understand exactly this, please watch the following video thoroughly:\n",
    "https://www.youtube.com/watch?v=kkMps3X_tEE\n",
    "### You then repeat this 2-step process for every value of $x_i$ and sum every result along the way.\n",
    "### Magic... the final sum is equal to your secret!"
   ]
  },
  {
   "cell_type": "code",
   "execution_count": null,
   "id": "254f67d3",
   "metadata": {},
   "outputs": [],
   "source": [
    "def reconstruct_secret(t_shares):\n",
    "    '''Reconstruct original secret from t shares or more.\n",
    "    Parameters\n",
    "    ------------\n",
    "        shares: list\n",
    "            List of tuples with the coordinates of t shares or more.\n",
    "    Return\n",
    "    -----------\n",
    "        secret : The original secret value\n",
    "    '''\n",
    "    sums = 0\n",
    "    for i, share_i in enumerate(t_shares):\n",
    "        xi, yi = share_i\n",
    "#         ...\n",
    "        for j, share_j in enumerate(t_shares):\n",
    "            xj, _ = share_j\n",
    "            if i != j:\n",
    "                ...\n",
    "# Now multiply the products of products with yi\n",
    "        ...\n",
    "        ...\n",
    "        ...    \n",
    "    return int(round(Decimal(sums), 0))"
   ]
  },
  {
   "cell_type": "code",
   "execution_count": null,
   "id": "a6b1c559",
   "metadata": {},
   "outputs": [],
   "source": [
    "secret_reconstructed = reconstruct_secret(t_shares)\n",
    "print(f\"The result of your interpolation is {secret_reconstructed}. This should be equal to the original\\\n",
    " secret {s}!!!\")"
   ]
  },
  {
   "cell_type": "markdown",
   "id": "2dd75784",
   "metadata": {},
   "source": [
    "### Lastly, you can see that if you use less than t shares, this will not work."
   ]
  },
  {
   "cell_type": "code",
   "execution_count": null,
   "id": "4049d092",
   "metadata": {},
   "outputs": [],
   "source": [
    "less_than_t_shares = t_shares[:-2]\n",
    "secret_from_few_shares = reconstruct_secret(less_than_t_shares)\n",
    "print(f\"The result of your interpolation is {secret_from_few_shares}. This should NOT be equal to the original\\\n",
    " secret {s}!!!\")"
   ]
  },
  {
   "cell_type": "markdown",
   "id": "1ab0e271",
   "metadata": {},
   "source": [
    "# TASK 5 - IMPLEMENTING A 1-OUT-OF-$2$ OBLIVIOUS TRANSFER PROTOCOL using RSA.\n",
    "### You have two parties. Alice has $2$ messages to send to Bob. \n",
    "### There is no function $f()$. The goal is simply for Bob to choose 1 message from Alice without learning anything about the 2nd message, and for Alice to not learn which message Bob chose.\n",
    "### TO DO #1: Define l (length of the messages)"
   ]
  },
  {
   "cell_type": "code",
   "execution_count": 5,
   "id": "0a6c91db",
   "metadata": {},
   "outputs": [],
   "source": [
    "l = 16"
   ]
  },
  {
   "cell_type": "markdown",
   "id": "84b1213b",
   "metadata": {},
   "source": [
    "### Right two classes, Alice() and Bob() containing the functions, in order, performing each operations of the RSA-based 1-out-of-2 Oblivious Transfer"
   ]
  },
  {
   "cell_type": "code",
   "execution_count": 6,
   "id": "c3f7faad",
   "metadata": {},
   "outputs": [],
   "source": [
    "class Alice:\n",
    "    def __init__(self):\n",
    "        pass\n",
    "    def create_n_msgs(self, n_value, l_value):\n",
    "        \"\"\"Create n  l-bit messages. \n",
    "        Return a list of n strings.\"\"\"\n",
    "        msgs = []\n",
    "        msgs.extend([(''.join(random.choices(string.ascii_lowercase, k=l_value))) for i in range(n_value)])\n",
    "        return msgs\n",
    "    \n",
    "    def generateKeys(self):\n",
    "        key = RSA.generate(1024)\n",
    "        e = key.e\n",
    "        d = key.d\n",
    "        N = key.n\n",
    "\n",
    "        private_key, public_key = d, (e, N)\n",
    "        return private_key, public_key\n",
    "        \n",
    "    def generate_2_x(self):\n",
    "        return random.sample(range(1, 10), 2)  \n",
    "    \n",
    "\n",
    "class Bob:\n",
    "    def __init__(self):\n",
    "        pass\n",
    "    \n",
    "    def generate_r(self):\n",
    "        return random.randint(0, 1)\n",
    "    \n",
    "    def generate_k(self):\n",
    "        return random.randint(1, 10)"
   ]
  },
  {
   "cell_type": "markdown",
   "id": "59b1c819",
   "metadata": {},
   "source": [
    "### TO DO #2: Generate two messages of l-length, as Alice"
   ]
  },
  {
   "cell_type": "code",
   "execution_count": 7,
   "id": "7ffb4496",
   "metadata": {},
   "outputs": [],
   "source": [
    "messages_of_alice = Alice().create_n_msgs(2, l)"
   ]
  },
  {
   "cell_type": "markdown",
   "id": "cf47eafb",
   "metadata": {},
   "source": [
    "### TO DO #3: Generate assymetric key pairs, as Alice\n",
    "tip: use RSA library"
   ]
  },
  {
   "cell_type": "code",
   "execution_count": 8,
   "id": "193cb4b6",
   "metadata": {},
   "outputs": [],
   "source": [
    "publicKey = Alice().generateKeys()[1]\n",
    "privateKey = Alice().generateKeys()[0]"
   ]
  },
  {
   "cell_type": "markdown",
   "id": "c1055d28",
   "metadata": {},
   "source": [
    "### Alice then sends the public key of format $(e, N)$ to Bob\n"
   ]
  },
  {
   "cell_type": "markdown",
   "id": "1c9c7f6c",
   "metadata": {},
   "source": [
    "### TO DO #4: Generate two random x values, as Alice"
   ]
  },
  {
   "cell_type": "code",
   "execution_count": 10,
   "id": "46e8c6c6",
   "metadata": {},
   "outputs": [],
   "source": [
    "two_x_of_alice = Alice().generate_2_x()"
   ]
  },
  {
   "cell_type": "markdown",
   "id": "db3eaeac",
   "metadata": {},
   "source": [
    "### Alice then sends both random x values to Bob"
   ]
  },
  {
   "cell_type": "markdown",
   "id": "ac0562be",
   "metadata": {},
   "source": [
    "### TO DO #5: Choose a random integer 0 or 1, as Bob"
   ]
  },
  {
   "cell_type": "code",
   "execution_count": 11,
   "id": "e31c4466",
   "metadata": {},
   "outputs": [],
   "source": [
    "r_of_bob = Bob().generate_r()"
   ]
  },
  {
   "cell_type": "markdown",
   "id": "85019c0e",
   "metadata": {},
   "source": [
    "### TO DO #6: Choose a random value k, as Bob"
   ]
  },
  {
   "cell_type": "code",
   "execution_count": 12,
   "id": "bda925c0",
   "metadata": {},
   "outputs": [],
   "source": [
    "k_of_bob = Bob().generate_k()"
   ]
  },
  {
   "cell_type": "markdown",
   "id": "bc4ebbe8",
   "metadata": {},
   "source": [
    "### TO DO #7: Bob computes $v = x_c + k^e$ and sends it to Alice"
   ]
  },
  {
   "cell_type": "code",
   "execution_count": 13,
   "id": "3537507f",
   "metadata": {},
   "outputs": [],
   "source": [
    "v = two_x_of_alice[r_of_bob] + (k_of_bob)**publicKey[0]\n"
   ]
  },
  {
   "cell_type": "markdown",
   "id": "06f9c2f1",
   "metadata": {},
   "source": [
    "### TO DO #8: Alice computes $k_0 = (v-x_0)^d$ and $k_1 = (v-x_1)^d$"
   ]
  },
  {
   "cell_type": "code",
   "execution_count": null,
   "id": "dd413fe1",
   "metadata": {},
   "outputs": [],
   "source": [
    "kzero_alice = (v - two_x_of_alice[0])**privateKey\n",
    "kone_alice = (v - two_x_of_alice[1])**privateKey"
   ]
  },
  {
   "cell_type": "markdown",
   "id": "0c211a0b",
   "metadata": {},
   "source": [
    "### TO DO #9: Alice computes and sends to bob both $m'_0 = m_0 + k_0$ and $m'_1 = m_1 + k_1$"
   ]
  },
  {
   "cell_type": "code",
   "execution_count": null,
   "id": "b4136aa3",
   "metadata": {},
   "outputs": [],
   "source": [
    "m_prime_zero = messages_of_alice + kzero_alice\n",
    "m_prime_one = messages_of_alice + kone_alice\n",
    "\n",
    "m_to_bob = (m_prime_zero, m_prime_one)"
   ]
  },
  {
   "cell_type": "markdown",
   "id": "07f73346",
   "metadata": {},
   "source": [
    "### TO DO #10: Bob computes $m_r = m'_r - k$ and learns nothing of $m_{1-r}$"
   ]
  },
  {
   "cell_type": "code",
   "execution_count": null,
   "id": "dad6b802",
   "metadata": {},
   "outputs": [],
   "source": [
    "decrypted_m = m_to_bob[r_of_bob] - k_of_bob"
   ]
  },
  {
   "cell_type": "markdown",
   "id": "ccdb7510",
   "metadata": {},
   "source": [
    "# Check if you are right:"
   ]
  },
  {
   "cell_type": "code",
   "execution_count": null,
   "id": "baeebafa",
   "metadata": {},
   "outputs": [],
   "source": [
    "assert decrypted_m == messages_of_alice[k_of_bob]"
   ]
  },
  {
   "cell_type": "code",
   "execution_count": null,
   "id": "ea310bb1",
   "metadata": {},
   "outputs": [],
   "source": []
  },
  {
   "cell_type": "markdown",
   "id": "2e7c5f6d",
   "metadata": {},
   "source": [
    "# TO DO AT HOME: 1-out-of-n Oblivious Transfer, also based on RSA."
   ]
  },
  {
   "cell_type": "code",
   "execution_count": null,
   "id": "daa1fa8b",
   "metadata": {},
   "outputs": [],
   "source": []
  }
 ],
 "metadata": {
  "kernelspec": {
   "display_name": "Python 3 (ipykernel)",
   "language": "python",
   "name": "python3"
  },
  "language_info": {
   "codemirror_mode": {
    "name": "ipython",
    "version": 3
   },
   "file_extension": ".py",
   "mimetype": "text/x-python",
   "name": "python",
   "nbconvert_exporter": "python",
   "pygments_lexer": "ipython3",
   "version": "3.10.8"
  }
 },
 "nbformat": 4,
 "nbformat_minor": 5
}
